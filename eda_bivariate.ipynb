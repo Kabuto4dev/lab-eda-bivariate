{
 "cells": [
  {
   "cell_type": "code",
   "execution_count": null,
   "metadata": {},
   "outputs": [],
   "source": [
    "import pandas as pd\n",
    "import matplotlib.pyplot as plt\n",
    "import seaborn as sns\n",
    "import numpy as np\n",
    "\n",
    "%matplotlib inline"
   ]
  },
  {
   "cell_type": "code",
   "execution_count": null,
   "metadata": {},
   "outputs": [],
   "source": [
    "# Loading amazon uk price prediction dataset\n",
    "amazon_prd_df = pd.read_csv(\"/Users/juanfransf/IRONHACK/COURSE/GitHub_LESSONS/5. WEEK 5/LABs WEEK 5/DAY 2/amz_uk_price_prediction_dataset.csv\")"
   ]
  },
  {
   "cell_type": "code",
   "execution_count": null,
   "metadata": {},
   "outputs": [],
   "source": [
    "# Display the first few rows of the dataset\n",
    "amazon_prd_df.head()"
   ]
  },
  {
   "cell_type": "code",
   "execution_count": null,
   "metadata": {},
   "outputs": [],
   "source": [
    "#Part 1: Analyzing Best-Seller Trends Across Product Categories\n",
    "\n",
    "#Objective: Understand the relationship between product categories and their best-seller status.\n",
    "\n",
    "    #1. Crosstab Analysis:\n",
    "\n",
    "        #Create a crosstab between the product category and the isBestSeller status.\n",
    "\n",
    "\n",
    "crosstab_amazon_prd = pd.crosstab(amazon_prd_df['category'], amazon_prd_df['isBestSeller'])\n",
    "\n",
    "crosstab_amazon_prd"
   ]
  },
  {
   "cell_type": "code",
   "execution_count": null,
   "metadata": {},
   "outputs": [],
   "source": [
    "# Are there categories where being a best-seller is more prevalent?\n",
    "# Calcular la suma de best-sellers y no best-sellers para cada categoría\n",
    "category_sums = crosstab_amazon_prd.sum(axis=1)\n",
    "\n",
    "# Calcular la proporción de best-sellers para cada categoría\n",
    "proportion_best_sellers = crosstab_amazon_prd[True] / category_sums\n",
    "\n",
    "# Ordenar las categorías según la proporción de best-sellers en orden descendente\n",
    "sorted_categories = proportion_best_sellers.sort_values(ascending=False)\n",
    "\n",
    "# Mostrar las categorías ordenadas\n",
    "sorted_categories\n",
    "\n",
    "# El top 5 de las categorías más prevalentes serían Grocery, Smart Home Security & Lighting, Health & Personal Care, Mobile Phone Accessories, Power & Hand Tools."
   ]
  },
  {
   "cell_type": "code",
   "execution_count": null,
   "metadata": {},
   "outputs": [],
   "source": [
    "# Statistical Tests:\n",
    "\n",
    "    # Conduct a Chi-square test to determine if the best-seller distribution is independent of the product category.\n",
    "\n",
    "from scipy.stats import chi2_contingency\n",
    "\n",
    "# Chi-square test for 'MSZoning' and 'SaleCondition'\n",
    "chi2_statistic, chi2_p_value, _, _ = chi2_contingency(crosstab_amazon_prd)\n",
    "\n",
    "chi2_statistic, chi2_p_value\n",
    "\n",
    "\n",
    "\n"
   ]
  },
  {
   "cell_type": "code",
   "execution_count": null,
   "metadata": {},
   "outputs": [],
   "source": [
    "    # Compute Cramér's V to understand the strength of association between best-seller status and category.\n",
    "\n",
    "from scipy.stats.contingency import association\n",
    "\n",
    "# Computing the association between variables in 'crosstab_result' using the \"cramer\" method\n",
    "association(crosstab_amazon_prd, method=\"cramer\")"
   ]
  },
  {
   "cell_type": "code",
   "execution_count": null,
   "metadata": {},
   "outputs": [],
   "source": [
    "# 3. Visualizations:\n",
    "\n",
    "    #Visualize the relationship between product categories and the best-seller status using a stacked bar chart.\n",
    "crosstab_amazon_prd.plot(kind=\"bar\", stacked=True)\n",
    "\n"
   ]
  },
  {
   "cell_type": "code",
   "execution_count": null,
   "metadata": {},
   "outputs": [],
   "source": [
    "top_5 = crosstab_amazon_prd.nlargest(5, True)\n",
    "top_5"
   ]
  },
  {
   "cell_type": "code",
   "execution_count": null,
   "metadata": {},
   "outputs": [],
   "source": [
    "top_5.plot(kind=\"bar\", stacked=True)"
   ]
  },
  {
   "cell_type": "code",
   "execution_count": null,
   "metadata": {},
   "outputs": [],
   "source": [
    "#Part 2: Exploring Product Prices and Ratings Across Categories and Brands\n",
    "\n",
    "#Objective: Investigate how different product categories influence product prices.\n",
    "\n",
    "    #0. Preliminary Step: Remove outliers in product prices.\n",
    "    #For this purpose, we can use the IQR (Interquartile Range) method. Products priced below the first quartile minus 1.5 times the IQR or above the third quartile plus 1.5 times the IQR will be considered outliers and removed from the dataset. The next steps will be done with the dataframe without outliers.\n",
    "\n",
    "def tukeys_test_outliers(price):\n",
    "    Q1 = column.quantile(0.25)\n",
    "    Q3 = column.quantile(0.75)\n",
    "    IQR = Q3 - Q1\n",
    "    \n",
    "    # Define bounds for the outliers\n",
    "    lower_bound = Q1 - 1.5 * IQR\n",
    "    upper_bound = Q3 + 1.5 * IQR\n",
    "    \n",
    "    # Identify the outliers\n",
    "    outliers = column[(column < lower_bound) | (column > upper_bound)]\n",
    "    \n",
    "    return outliers\n",
    " "
   ]
  },
  {
   "cell_type": "code",
   "execution_count": null,
   "metadata": {},
   "outputs": [],
   "source": [
    "#1. Violin Plots:\n",
    "\n",
    "    #Use a violin plot to visualize the distribution of price across different product categories. \n",
    "sns.violinplot(data=amazon_prd_df, x='price', y='category', palette=\"coolwarm\")\n"
   ]
  },
  {
   "cell_type": "code",
   "execution_count": null,
   "metadata": {},
   "outputs": [],
   "source": [
    "# Filter out the top 20 categories based on count for better visualization.\n",
    "\n",
    "import seaborn as sns\n",
    "import matplotlib.pyplot as plt\n",
    "\n",
    "# Calcular el recuento de productos en cada categoría\n",
    "category_counts = amazon_prd_df['category'].value_counts()\n",
    "\n",
    "# Filtrar las 20 principales categorías\n",
    "top_20_categories = category_counts.head(20).index\n",
    "\n",
    "# Filtrar el DataFrame original para incluir solo las 20 principales categorías\n",
    "filtered_df = amazon_prd_df[amazon_prd_df['category'].isin(top_20_categories)]\n",
    "\n",
    "# Usar un gráfico de violín para visualizar la distribución de precios en las categorías filtradas\n",
    "plt.figure(figsize=(12, 8))\n",
    "sns.violinplot(data=filtered_df, x='price', y='category', palette=\"coolwarm\")\n",
    "plt.title('Distribution of Price Across Top 20 Product Categories')\n",
    "plt.xlabel('Price')\n",
    "plt.ylabel('Category')\n",
    "plt.show()"
   ]
  },
  {
   "cell_type": "code",
   "execution_count": null,
   "metadata": {},
   "outputs": [],
   "source": [
    "#Which product category tends to have the highest median price? Don't filter here by top categories.\n",
    "\n",
    "# Calcular la mediana del precio para cada categoría\n",
    "median_price_by_category = amazon_prd_df.groupby('category')['price'].median()\n",
    "\n",
    "# Encontrar la categoría con la mediana más alta\n",
    "category_with_highest_median_price = median_price_by_category.idxmax()\n",
    "highest_median_price = median_price_by_category.max()\n",
    "\n",
    "print(\"Product category with the highest median price:\", category_with_highest_median_price)\n",
    "print(\"Highest median price:\", highest_median_price)"
   ]
  },
  {
   "cell_type": "code",
   "execution_count": null,
   "metadata": {},
   "outputs": [],
   "source": [
    "# 2. Bar Charts:\n",
    "\n",
    "    # Create a bar chart comparing the average price of products for the top 10 product categories (based on count).\n",
    "\n",
    "import seaborn as sns\n",
    "import matplotlib.pyplot as plt\n",
    "\n",
    "# Calcular el recuento de productos en cada categoría\n",
    "category_counts = amazon_prd_df['category'].value_counts()\n",
    "\n",
    "# Seleccionar las 10 principales categorías basadas en el recuento\n",
    "top_10_categories = category_counts.head(10).index\n",
    "\n",
    "# Filtrar el DataFrame original para incluir solo las 10 principales categorías\n",
    "filtered_df = amazon_prd_df[amazon_prd_df['category'].isin(top_10_categories)]\n",
    "\n",
    "# Calcular el precio promedio de los productos para cada una de estas categorías\n",
    "average_price_by_category = filtered_df.groupby('category')['price'].mean().sort_values()\n",
    "\n",
    "# Crear un gráfico de barras\n",
    "plt.figure(figsize=(10, 6))\n",
    "sns.barplot(x=average_price_by_category.values, y=average_price_by_category.index, palette='viridis')\n",
    "plt.title('Average Price of Products for Top 10 Product Categories')\n",
    "plt.xlabel('Average Price')\n",
    "plt.ylabel('Category')\n",
    "plt.show()\n"
   ]
  },
  {
   "cell_type": "code",
   "execution_count": null,
   "metadata": {},
   "outputs": [],
   "source": [
    "    # Which product category commands the highest average price? Don't filter here by top categories.\n",
    "\n",
    "# Calcular el precio promedio para cada categoría\n",
    "average_price_by_category = amazon_prd_df.groupby('category')['price'].mean()\n",
    "\n",
    "# Encontrar la categoría con el precio promedio más alto\n",
    "category_with_highest_avg_price = average_price_by_category.idxmax()\n",
    "highest_avg_price = average_price_by_category.max()\n",
    "\n",
    "print(\"Product category with the highest average price:\", category_with_highest_avg_price)\n",
    "print(\"Highest average price:\", highest_avg_price)"
   ]
  },
  {
   "cell_type": "code",
   "execution_count": null,
   "metadata": {},
   "outputs": [],
   "source": [
    "#3. Box Plots:\n",
    "\n",
    "    #Visualize the distribution of product ratings based on their category using side-by-side box plots. Filter out the top 10 categories based on count for better visualization.\n",
    "\n",
    "import seaborn as sns\n",
    "import matplotlib.pyplot as plt\n",
    "\n",
    "# Calcular el recuento de productos en cada categoría\n",
    "category_counts = amazon_prd_df['category'].value_counts()\n",
    "\n",
    "# Seleccionar las 10 principales categorías basadas en el recuento\n",
    "top_10_categories = category_counts.head(10).index\n",
    "\n",
    "# Filtrar el DataFrame original para incluir solo las 10 principales categorías\n",
    "filtered_df = amazon_prd_df[amazon_prd_df['category'].isin(top_10_categories)]\n",
    "\n",
    "# Visualizar la distribución de las calificaciones de los productos en estas categorías filtradas\n",
    "plt.figure(figsize=(12, 8))\n",
    "sns.boxplot(data=filtered_df, x='stars', y='category', palette='Set3')\n",
    "plt.title('Distribution of Product Ratings Across Top 10 Product Categories')\n",
    "plt.xlabel('Stars')\n",
    "plt.ylabel('Category')\n",
    "plt.show()"
   ]
  },
  {
   "cell_type": "code",
   "execution_count": null,
   "metadata": {},
   "outputs": [],
   "source": [
    "# Which category tends to receive the highest median rating from customers? Don't filter here by top categories.\n",
    "\n",
    "# Calcular la mediana de las calificaciones para cada categoría\n",
    "median_rating_by_category = amazon_prd_df.groupby('category')['stars'].median()\n",
    "\n",
    "# Encontrar la categoría con la mediana más alta de calificaciones\n",
    "category_with_highest_median_rating = median_rating_by_category.idxmax()\n",
    "highest_median_rating = median_rating_by_category.max()\n",
    "\n",
    "print(\"Product category with the highest median rating:\", category_with_highest_median_rating)\n",
    "print(\"Highest median rating:\", highest_median_rating)\n"
   ]
  },
  {
   "cell_type": "code",
   "execution_count": null,
   "metadata": {},
   "outputs": [],
   "source": [
    "#Part 3: Investigating the Interplay Between Product Prices and Ratings\n",
    "\n",
    "#Objective: Analyze how product ratings (stars) correlate with product prices.\n",
    "\n",
    "    #1. Correlation Coefficients:\n",
    "        #Calculate the correlation coefficient between price and stars.\n",
    "# Calculating the Pearson correlation coefficient\n",
    "correlation = amazon_prd_df['price'].corr(amazon_prd_df['stars'])\n",
    "correlation\n"
   ]
  },
  {
   "cell_type": "code",
   "execution_count": null,
   "metadata": {},
   "outputs": [],
   "source": [
    "    #Is there a significant correlation between product price and its rating?\n",
    "\n",
    "#El coeficiente de correlación de Pearson calculado entre el precio y las calificaciones es aproximadamente -0.125. Un coeficiente de correlación negativo indica una relación inversa \n",
    "#entre las dos variables, lo que sugiere que a medida que el precio aumenta, las calificaciones tienden a disminuir, y viceversa. Sin embargo, la magnitud del coeficiente es relativamente \n",
    "#baja, lo que sugiere una correlación débil entre el precio y las calificaciones."
   ]
  },
  {
   "cell_type": "code",
   "execution_count": null,
   "metadata": {},
   "outputs": [],
   "source": [
    "#Visualizations:\n",
    "\n",
    "    #Use a scatter plot to visualize the relationship between product rating and price. What patterns can you observe?\n",
    "\n",
    "sns.scatterplot(data=amazon_prd_df, x='stars', y='price')"
   ]
  },
  {
   "cell_type": "code",
   "execution_count": null,
   "metadata": {},
   "outputs": [],
   "source": [
    "    #Use a correlation heatmap to visualize correlations between all numerical variables.\n",
    "correlation_matrix = amazon_prd_df.corr()\n",
    "\n",
    "# Setting up the matplotlib figure with an appropriate size\n",
    "plt.figure(figsize=(18, 15))\n",
    "\n",
    "# Drawing the heatmap for the numerical columns\n",
    "sns.heatmap(correlation_matrix, annot=True, cmap=\"coolwarm\")\n",
    "\n",
    "plt.title(\"Correlation Heatmap for Selected Numerical Variables\")\n",
    "plt.show()"
   ]
  },
  {
   "cell_type": "code",
   "execution_count": null,
   "metadata": {},
   "outputs": [],
   "source": [
    "    # Examine if product prices typically follow a normal distribution using a QQ plot.\n",
    "\n",
    "import statsmodels.api as sm\n",
    "\n",
    "sm.qqplot(amazon_prd_df['price'], line='s');"
   ]
  },
  {
   "cell_type": "code",
   "execution_count": null,
   "metadata": {},
   "outputs": [],
   "source": [
    "#Bonus:\n",
    "# Calculating the Pearson correlation coefficient without removing outliers\n",
    "correlation_with_outliers = amazon_prd_df['price'].corr(amazon_prd_df['stars'])\n",
    "correlation_with_outliers"
   ]
  },
  {
   "cell_type": "code",
   "execution_count": null,
   "metadata": {},
   "outputs": [],
   "source": []
  }
 ],
 "metadata": {
  "kernelspec": {
   "display_name": "Python 3",
   "language": "python",
   "name": "python3"
  },
  "language_info": {
   "codemirror_mode": {
    "name": "ipython",
    "version": 3
   },
   "file_extension": ".py",
   "mimetype": "text/x-python",
   "name": "python",
   "nbconvert_exporter": "python",
   "pygments_lexer": "ipython3",
   "version": "3.9.7"
  }
 },
 "nbformat": 4,
 "nbformat_minor": 2
}
